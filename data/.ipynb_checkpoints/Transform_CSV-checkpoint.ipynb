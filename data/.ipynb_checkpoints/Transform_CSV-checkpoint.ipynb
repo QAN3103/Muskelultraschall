{
 "cells": [
  {
   "cell_type": "code",
   "execution_count": 2,
   "id": "e2524c29-5dd1-48ea-b42b-c613ae20fddd",
   "metadata": {},
   "outputs": [],
   "source": [
    "import pandas as pd"
   ]
  },
  {
   "cell_type": "code",
   "execution_count": 3,
   "id": "9e01c981-dad2-4438-a68f-16f0abea421b",
   "metadata": {},
   "outputs": [],
   "source": [
    "# Read the REFERENCE.CSV file. The absolute path must be changed before use\n",
    "reference = pd.read_csv('C:/Users/Quynh Anh/Muskelultraschall/data/REFERENCE.csv')\n"
   ]
  },
  {
   "cell_type": "code",
   "execution_count": 18,
   "id": "2fceed93-dccd-4fe3-80e8-84b096daa561",
   "metadata": {},
   "outputs": [
    {
     "data": {
      "text/plain": [
       "Index(['Image_ID;Krank/Gesund'], dtype='object')"
      ]
     },
     "execution_count": 18,
     "metadata": {},
     "output_type": "execute_result"
    }
   ],
   "source": [
    "reference.columns"
   ]
  },
  {
   "cell_type": "code",
   "execution_count": 15,
   "id": "5a7aeaf6-1f56-4538-9520-73b8e459bbb6",
   "metadata": {},
   "outputs": [],
   "source": [
    "# new data frame with split value columns\n",
    "new_reference = reference[\"Image_ID;Krank/Gesund\"].str.split(\";\", n=1, expand=True)"
   ]
  },
  {
   "cell_type": "code",
   "execution_count": 17,
   "id": "73cd719a-9148-4b7e-823b-1bbf29cea1a8",
   "metadata": {},
   "outputs": [],
   "source": [
    "reference [\"Image_ID\"] = new_reference[0]"
   ]
  },
  {
   "cell_type": "code",
   "execution_count": 19,
   "id": "e63e841c-6604-4770-a9f1-b3ccafcb5269",
   "metadata": {},
   "outputs": [],
   "source": [
    "reference [\"Krank/Gesund\"] = new_reference[1]"
   ]
  },
  {
   "cell_type": "code",
   "execution_count": 20,
   "id": "42467540-9f0e-4053-abd2-f3dd6f74c725",
   "metadata": {},
   "outputs": [],
   "source": [
    "reference.drop(columns=[\"Image_ID;Krank/Gesund\"], inplace=True)"
   ]
  },
  {
   "cell_type": "code",
   "execution_count": 23,
   "id": "5bdc9cd8-f9b8-4eb7-84da-b30eee3e8980",
   "metadata": {},
   "outputs": [],
   "source": [
    "reference.to_csv ('REFERENCE.csv', index = False)"
   ]
  },
  {
   "cell_type": "code",
   "execution_count": null,
   "id": "50793d28-66b0-47c2-9f5e-5282ea01d0a9",
   "metadata": {},
   "outputs": [],
   "source": []
  }
 ],
 "metadata": {
  "kernelspec": {
   "display_name": "Python 3 (ipykernel)",
   "language": "python",
   "name": "python3"
  },
  "language_info": {
   "codemirror_mode": {
    "name": "ipython",
    "version": 3
   },
   "file_extension": ".py",
   "mimetype": "text/x-python",
   "name": "python",
   "nbconvert_exporter": "python",
   "pygments_lexer": "ipython3",
   "version": "3.10.9"
  }
 },
 "nbformat": 4,
 "nbformat_minor": 5
}
