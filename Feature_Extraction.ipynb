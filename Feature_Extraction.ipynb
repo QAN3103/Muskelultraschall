{
 "cells": [
  {
   "cell_type": "code",
   "execution_count": 3,
   "id": "551c3753-3177-4b3c-937f-dedc820c52fc",
   "metadata": {},
   "outputs": [],
   "source": [
    "import cv2\n",
    "import numpy as np\n",
    "import matplotlib.pyplot as plt\n",
    "from skimage.feature import graycomatrix, graycoprops\n",
    "from skimage import data\n",
    "import scipy"
   ]
  },
  {
   "cell_type": "code",
   "execution_count": 9,
   "id": "385e38e5-e0df-4180-bd03-af89c9eda752",
   "metadata": {},
   "outputs": [],
   "source": [
    "def create_hist (image):\n",
    "    \"\"\"\n",
    "    Create a histogram for a grayscale image.\n",
    "\n",
    "    Parameters:\n",
    "    image (numpy.ndarray): The input grayscale image.\n",
    "\n",
    "    Returns:\n",
    "    hist (numpy.ndarray): The histogram of the image.\n",
    "    \"\"\"\n",
    "    # Calculate the histogram for the grayscale image\n",
    "    hist = cv2.calcHist([image], [0], None, [256], [0, 256])\n",
    "    return hist"
   ]
  },
  {
   "cell_type": "code",
   "execution_count": 10,
   "id": "78ea63f2-05d2-4f23-a97e-b42382610151",
   "metadata": {},
   "outputs": [],
   "source": [
    "def calculate_hist (hist):\n",
    "    \"\"\"\n",
    "    Calculate statistical properties of a histogram.\n",
    "\n",
    "    Parameters:\n",
    "    hist (numpy.ndarray): The histogram of an image.\n",
    "\n",
    "    Returns:\n",
    "    mean_hist (float): The mean of the histogram.\n",
    "    median_hist (float): The median of the histogram.\n",
    "    std_hist (float): The standard deviation of the histogram.\n",
    "    skewness_hist (float): The skewness of the histogram.\n",
    "    kurtosis_hist (float): The kurtosis of the histogram.\n",
    "    \"\"\"\n",
    "    mean_hist = np.mean (hist)\n",
    "    median_hist = np.median (hist)\n",
    "    std_hist = np.std (hist)\n",
    "    skewness_hist = scipy.stats.skew(hist, axis=0, bias=True)\n",
    "    kurtosis_hist = scipy.stats.kurtosis(hist, axis=0, fisher=True, bias=True)\n",
    "    return mean_hist, median_hist, std_hist, skewness_hist, kurtosis_hist"
   ]
  },
  {
   "cell_type": "code",
   "execution_count": 8,
   "id": "927c8313-ff0d-4618-b0fa-562ac367070d",
   "metadata": {},
   "outputs": [],
   "source": [
    "def calculate_glcm (image, distance, angle, level):\n",
    "    #Example: glcm = graycomatrix(patient_1, distances=[100], angles=[0], levels=256, symmetric=True, normed=True)\n",
    "    \"\"\"\n",
    "    Calculate the Gray Level Co-occurrence Matrix (GLCM) and its properties.\n",
    "\n",
    "    Parameters:\n",
    "    image (numpy.ndarray): The input grayscale image.\n",
    "    distance (list of int): The list of pixel pair distance offsets.\n",
    "    angle (list of float): The list of pixel pair angles in radians.\n",
    "    level (int): The number of gray levels in the image.\n",
    "\n",
    "    Returns:\n",
    "    contrast (numpy.ndarray): The contrast of the GLCM.\n",
    "    dissimilarity (numpy.ndarray): The dissimilarity of the GLCM.\n",
    "    homogeneity (numpy.ndarray): The homogeneity of the GLCM.\n",
    "    energy (numpy.ndarray): The energy of the GLCM.\n",
    "    correlation (numpy.ndarray): The correlation of the GLCM.\n",
    "    \"\"\"\n",
    "    glcm = graycomatrix(image, distance, angle, level, symmetric=True, normed=True)\n",
    "    contrast = graycoprops(glcm, 'contrast')\n",
    "    dissimilarity = graycoprops(glcm, 'dissimilarity')\n",
    "    homogeneity = graycoprops(glcm, 'homogeneity')\n",
    "    energy = graycoprops(glcm, 'energy')\n",
    "    correlation = graycoprops(glcm, 'correlation')\n",
    "    return contrast, dissimilarity, homogeneity, energy, correlation"
   ]
  },
  {
   "cell_type": "code",
   "execution_count": 11,
   "id": "5132d7ce-7cd5-40eb-9c83-5bd866812604",
   "metadata": {},
   "outputs": [],
   "source": [
    "#kantendetektion"
   ]
  },
  {
   "cell_type": "code",
   "execution_count": null,
   "id": "49ad7d09-49b4-4452-bef5-1c944127a519",
   "metadata": {},
   "outputs": [],
   "source": []
  }
 ],
 "metadata": {
  "kernelspec": {
   "display_name": "Python 3 (ipykernel)",
   "language": "python",
   "name": "python3"
  },
  "language_info": {
   "codemirror_mode": {
    "name": "ipython",
    "version": 3
   },
   "file_extension": ".py",
   "mimetype": "text/x-python",
   "name": "python",
   "nbconvert_exporter": "python",
   "pygments_lexer": "ipython3",
   "version": "3.10.9"
  }
 },
 "nbformat": 4,
 "nbformat_minor": 5
}
