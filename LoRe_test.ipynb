{
 "cells": [
  {
   "cell_type": "code",
   "execution_count": null,
   "id": "50c7449f-d239-4bed-956b-67b59f0963c5",
   "metadata": {},
   "outputs": [],
   "source": [
    "from sklearn.svm import SVC\n",
    "from sklearn.preprocessing import MinMaxScaler\n",
    "from sklearn.model_selection import GridSearchCV, KFold\n",
    "from sklearn.metrics import make_scorer, f1_score, roc_curve, auc\n",
    "import joblib\n",
    "from sklearn.metrics import accuracy_score, confusion_matrix\n",
    "import seaborn as sns\n",
    "from sklearn import linear_model\n",
    "import pandas as pd\n",
    "import matplotlib.pyplot as plt\n",
    "\n",
    "#import train feature table. Path must be changed before use\n",
    "reference = pd.read_csv('/work/Train/features_train.csv')\n",
    "#remore Image_ID columns\n",
    "reference.drop('Image_ID', axis='columns', inplace=True)\n",
    "reference\n",
    "\n",
    "#create training data\n",
    "X_train = reference.iloc [:, 1:]\n",
    "y_train = reference.iloc [:, 0]\n",
    "\n",
    "#feature scaling\n",
    "scaler = MinMaxScaler(feature_range=(0, 1))\n",
    "X_train = pd.DataFrame(scaler.fit_transform(X_train), columns = X_train.columns)\n",
    "\n",
    "model = linear_model.LogisticRegression(penalty='l2', class_weight= 'balanced', max_iter = 200)\n",
    "\n",
    "#Hyperparameter Tuning\n",
    "param_grid = {\n",
    "    'C': [0.001, 0.01, 0.1, 1, 10, 100],\n",
    "    'solver': ['liblinear', 'lbfgs', 'newton-cg', 'sag', 'saga'],\n",
    "    'penalty': ['l1', 'l2', 'elasticnet', 'none']\n",
    "}\n",
    "\n",
    "grid_search = GridSearchCV(estimator=model, param_grid=param_grid, cv=5, scoring='accuracy', verbose=1)\n",
    "\n",
    "# cv=5 Kreuzvaldierung \n",
    "#Run GridSearchCV \n",
    "grid_search.fit(X_train, y_train)\n",
    "\n",
    "#find out best parameter\n",
    "final_param = grid_search.best_params_\n",
    "final_score = grid_search.best_score_\n",
    "print (f\"Final parameter: {final_param}\")\n",
    "print (f\"Final score: {final_score}\")\n",
    "\n",
    "# Save best model\n",
    "final_model = grid_search.best_estimator_\n",
    "best_model_path = '/work/Train/Lo_Re_model/Lo_Re_mode_testheyi.pkl'\n",
    "joblib.dump(final_model, best_model_path)\n",
    "print(f'Der beste Model wurde gespeichert unter: {best_model_path}')\n",
    "\n",
    "\n"
   ]
  }
 ],
 "metadata": {
  "kernelspec": {
   "display_name": "Python 3 (ipykernel)",
   "language": "python",
   "name": "python3"
  },
  "language_info": {
   "codemirror_mode": {
    "name": "ipython",
    "version": 3
   },
   "file_extension": ".py",
   "mimetype": "text/x-python",
   "name": "python",
   "nbconvert_exporter": "python",
   "pygments_lexer": "ipython3",
   "version": "3.11.7"
  }
 },
 "nbformat": 4,
 "nbformat_minor": 5
}
