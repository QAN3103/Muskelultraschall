{
 "cells": [
  {
   "cell_type": "code",
   "execution_count": 14,
   "id": "64793c49-7f73-4ea9-acd6-09ae4a360b02",
   "metadata": {},
   "outputs": [],
   "source": [
    "import pandas as pd\n",
    "import cv2\n",
    "import os\n",
    "# Read the REFERENCE.CSV file. Absolute Path must be changed before use\n",
    "reference = pd.read_csv('C:/Users/Quynh Anh/Muskelultraschall/data/REFERENCE.csv')"
   ]
  },
  {
   "cell_type": "code",
   "execution_count": 2,
   "id": "5b18ada0-8e53-443b-a9c9-a9e9dee8d5bd",
   "metadata": {},
   "outputs": [],
   "source": [
    "image_id = reference [\"Image_ID\"]"
   ]
  },
  {
   "cell_type": "code",
   "execution_count": 11,
   "id": "86348899-c9bb-4d87-84ed-b2a71e7c69e9",
   "metadata": {},
   "outputs": [],
   "source": [
    "def get_bone_image (image_name, path, image_type):\n",
    "    \"\"\"\n",
    "    Load a grayscale bone image from the specified path.\n",
    "\n",
    "    Parameters:\n",
    "    image_name (str): The base name of the image file (e.g., 'TU2N_1').\n",
    "    path (str): The directory path where the image file is located (e.g., 'C:/Users/Quynh Anh/Muskelultraschall/data_example/').\n",
    "    image_type (str): The file extension of the image (e.g., '.png' or '.jpg').\n",
    "\n",
    "    Returns:\n",
    "    image (numpy.ndarray): The loaded grayscale image. Returns None if the image could not be loaded.\n",
    "    \"\"\" \n",
    "    # Construct the absolute path to the image file\n",
    "    absolute_path = os.path.join(path, image_name + '_bone' + image_type)\n",
    "    \n",
    "    # Verify that the file exists\n",
    "    if not os.path.exists(absolute_path):\n",
    "        print(f\"Error: File not found at {absolute_path}\")\n",
    "        return None\n",
    "\n",
    "    # Load the image in grayscale mode\n",
    "    image = cv2.imread(absolute_path, cv2.IMREAD_GRAYSCALE)\n",
    "    \n",
    "    # Check if the image was loaded successfully\n",
    "    if image is None:\n",
    "        print(f\"Error: Could not load image from {absolute_path}. Please check the file path and file format.\")\n",
    "    \n",
    "    return image\n",
    "    "
   ]
  },
  {
   "cell_type": "code",
   "execution_count": 12,
   "id": "7867ac70-dc9b-4259-a495-4084223fa07c",
   "metadata": {},
   "outputs": [],
   "source": [
    "#patient_1 = cv2.imread ('TU2N_1_bone.png', cv2.IMREAD_GRAYSCALE)\n",
    "#patient_1 = cv2.imread (path, cv2.IMREAD_GRAYSCALE)\n",
    "patient_1 = get_bone_image (image_id[0], 'C:/Users/Quynh Anh/Muskelultraschall/data_example/', '.png')"
   ]
  },
  {
   "cell_type": "code",
   "execution_count": 13,
   "id": "441b7423-6af4-4eb6-a81a-50b77d3f2cee",
   "metadata": {},
   "outputs": [],
   "source": [
    "def get_muscle_image (image_name, path, image_type):\n",
    "    \"\"\"\n",
    "    Load a grayscale muscle image from the specified path.\n",
    "\n",
    "    Parameters:\n",
    "    image_name (str): The base name of the image file (e.g., 'TU2N_1').\n",
    "    path (str): The directory path where the image file is located (e.g., 'C:/Users/Quynh Anh/Muskelultraschall/data_example/').\n",
    "    image_type (str): The file extension of the image (e.g., '.png' or '.jpg').\n",
    "\n",
    "    Returns:\n",
    "    image (numpy.ndarray): The loaded grayscale image. Returns None if the image could not be loaded.\n",
    "    \"\"\"\n",
    "    # Construct the absolute path to the image file\n",
    "    absolute_path = os.path.join(path, image_name + '_muscle' + image_type)\n",
    "    \n",
    "    # Verify that the file exists\n",
    "    if not os.path.exists(absolute_path):\n",
    "        print(f\"Error: File not found at {absolute_path}\")\n",
    "        return None\n",
    "\n",
    "    # Load the image in grayscale mode\n",
    "    image = cv2.imread(absolute_path, cv2.IMREAD_GRAYSCALE)\n",
    "    \n",
    "    # Check if the image was loaded successfully\n",
    "    if image is None:\n",
    "        print(f\"Error: Could not load image from {absolute_path}. Please check the file path and file format.\")\n",
    "    \n",
    "    return image"
   ]
  },
  {
   "cell_type": "code",
   "execution_count": null,
   "id": "1d4c48e0-1004-4029-836a-bae9b5713621",
   "metadata": {},
   "outputs": [],
   "source": []
  }
 ],
 "metadata": {
  "kernelspec": {
   "display_name": "Python 3 (ipykernel)",
   "language": "python",
   "name": "python3"
  },
  "language_info": {
   "codemirror_mode": {
    "name": "ipython",
    "version": 3
   },
   "file_extension": ".py",
   "mimetype": "text/x-python",
   "name": "python",
   "nbconvert_exporter": "python",
   "pygments_lexer": "ipython3",
   "version": "3.10.9"
  }
 },
 "nbformat": 4,
 "nbformat_minor": 5
}
