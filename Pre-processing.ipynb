{
 "cells": [
  {
   "cell_type": "code",
   "execution_count": 2,
   "id": "aea1b849",
   "metadata": {},
   "outputs": [],
   "source": [
    "import cv2\n",
    "import numpy as np\n",
    "import matplotlib.pyplot as plt\n",
    "from skimage.feature import graycomatrix, graycoprops\n",
    "from skimage import data\n",
    "import scipy\n"
   ]
  },
  {
   "cell_type": "code",
   "execution_count": 3,
   "id": "16473c88",
   "metadata": {},
   "outputs": [],
   "source": [
    "patient_1 = cv2.imread ('1.jpg', cv2.IMREAD_GRAYSCALE)\n",
    "patient_2 = cv2.imread ('2.jpg', cv2.IMREAD_GRAYSCALE)"
   ]
  },
  {
   "cell_type": "code",
   "execution_count": 6,
   "id": "356d7936",
   "metadata": {},
   "outputs": [],
   "source": [
    "#size of image = pixel x pixel (ex: 512x512)\n",
    "#\n",
    "def resize_image (pixel, image):\n",
    "    ratio = pixel / image.shape[1]\n",
    "    dimension = (pixel, int(patient_1.shape[0]*ratio))\n",
    "    resized = cv2.resize(image, dimension, interpolation=cv2.INTER_AREA)\n",
    "    return resized"
   ]
  },
  {
   "cell_type": "code",
   "execution_count": 7,
   "id": "d277f1a6",
   "metadata": {},
   "outputs": [],
   "source": [
    "def bright_contrast (image, contrast, brightness):\n",
    "    return cv2.convertScaleAbs (image, contrast, brightness)\n",
    "\n",
    "#bright_image = bright_contrast(patient_1, 30, 1)\n",
    "#cv2.imshow(\"bright\", bright_image)\n",
    "#cv2.waitKey(0) "
   ]
  },
  {
   "cell_type": "code",
   "execution_count": 8,
   "id": "cb21b232",
   "metadata": {},
   "outputs": [],
   "source": [
    "#normalize between 0 and 1\n",
    "import numpy as np\n",
    "def normalize_image (image, coefficient):\n",
    "    normalized_image = image.astype(np.float32) / coefficient\n",
    "    return normalized_image\n",
    "  \n",
    "#normalized_image = normalize_image(patient_1)\n",
    "#cv2.imshow(\"normalized\", normalized_image)\n",
    "#cv2.waitKey(0) "
   ]
  },
  {
   "cell_type": "code",
   "execution_count": 9,
   "id": "bba83d37",
   "metadata": {},
   "outputs": [],
   "source": [
    "def median_filter (image, kernel_size):\n",
    "    return cv2.medianBlur(image, kernel_size)\n",
    "                   \n",
    "#filtered_image = median_filter(patient_1,3)\n",
    "#cv2.imshow(\"filtered\", filtered_image)\n",
    "#cv2.waitKey(0) \n",
    "\n",
    "#img_blur = cv2.GaussianBlur(patient_1, (3,3), 0) "
   ]
  },
  {
   "cell_type": "code",
   "execution_count": 10,
   "id": "27b11970",
   "metadata": {},
   "outputs": [],
   "source": [
    "# Sobel Edge Detection\n",
    "sobelx = cv2.Sobel(src=patient_1, ddepth=cv2.CV_64F, dx=1, dy=0, ksize=3) # Sobel Edge Detection on the X axis\n",
    "sobely = cv2.Sobel(src=patient_1, ddepth=cv2.CV_64F, dx=0, dy=1, ksize=3) # Sobel Edge Detection on the Y axis\n",
    "sobelxy = cv2.Sobel(src=patient_1, ddepth=cv2.CV_64F, dx=1, dy=1, ksize=3) # Combined X and Y Sobel Edge Detection\n",
    "# Display Sobel Edge Detection Images\n",
    "#cv2.imshow('Sobel X', sobelx)\n",
    "#cv2.waitKey(0)\n",
    "#cv2.imshow('Sobel Y', sobely)\n",
    "#cv2.waitKey(0)\n",
    "#cv2.imshow('Sobel X Y using Sobel() function', sobelxy)\n",
    "#cv2.waitKey(0)"
   ]
  },
  {
   "cell_type": "code",
   "execution_count": 11,
   "id": "3105c1d7",
   "metadata": {
    "scrolled": true
   },
   "outputs": [],
   "source": [
    "def calculate_glcm (image, distance, angle, level):\n",
    "    #glcm = graycomatrix(patient_1, distances=[100], angles=[0], levels=256, symmetric=True, normed=True)\n",
    "    glcm = graycomatrix(image, distance, angle, level, symmetric=True, normed=True)\n",
    "    contrast = graycoprops(glcm, 'contrast')\n",
    "    dissimilarity = graycoprops(glcm, 'dissimilarity')\n",
    "    homogeneity = graycoprops(glcm, 'homogeneity')\n",
    "    energy = graycoprops(glcm, 'energy')\n",
    "    correlation = graycoprops(glcm, 'correlation')\n",
    "    return contrast, dissimilarity, homogeneity, energy, correlation"
   ]
  },
  {
   "cell_type": "code",
   "execution_count": 13,
   "id": "e9bcfab0",
   "metadata": {},
   "outputs": [],
   "source": [
    "def create_hist (image):\n",
    "    hist = cv2.calcHist([image], [0], None, [256], [0, 256])\n",
    "    return hist\n",
    "\n",
    "def calculate_hist (hist):\n",
    "    mean_hist = np.mean (hist)\n",
    "    median_hist = np.median (hist)\n",
    "    std_hist = np.std (hist)\n",
    "    skewness_hist = scipy.stats.skew(hist, axis=0, bias=True)\n",
    "    kurtosis_hist = scipy.stats.kurtosis(hist, axis=0, fisher=True, bias=True)\n",
    "    return mean_hist, median_hist, std_hist, skewness_hist, kurtosis_hist"
   ]
  },
  {
   "cell_type": "code",
   "execution_count": 5,
   "id": "78c52561",
   "metadata": {},
   "outputs": [
    {
     "data": {
      "text/plain": [
       "-1"
      ]
     },
     "execution_count": 5,
     "metadata": {},
     "output_type": "execute_result"
    }
   ],
   "source": [
    "def crop_image (image, x, y, w, h, output_path='cropped_image.jpg'):\n",
    "#x, y, w, h = 200, 300, 400, 300  # Beispielkoordinaten\n",
    "    \"\"\"\n",
    "    Crop the image to the specified dimensions and save it.\n",
    "\n",
    "    Args:\n",
    "        image (numpy.ndarray): The image to be cropped.\n",
    "        x (int): The x-coordinate of the top-left corner of the cropping rectangle.\n",
    "        y (int): The y-coordinate of the top-left corner of the cropping rectangle.\n",
    "        w (int): The width of the cropping rectangle.\n",
    "        h (int): The height of the cropping rectangle.\n",
    "        output_path (str, optional): The path where the cropped image will be saved. Defaults to 'cropped_image.jpg'.\n",
    "\n",
    "    Returns:\n",
    "        bool: True if the image was successfully saved, False otherwise.\n",
    "\n",
    "    Raises:\n",
    "        ValueError: If the input image is not a valid numpy array or the coordinates are out of bounds.\n",
    "    \"\"\"\n",
    "    if not isinstance(image, np.ndarray):\n",
    "        raise ValueError(\"The input image must be a numpy array.\")\n",
    "    if x < 0 or y < 0 or x+w > image.shape[1] or y+h > image.shape[0]:\n",
    "        raise ValueError(\"The cropping coordinates are out of image bounds.\")\n",
    "    cropped_image = image[y:y+h, x:x+w]\n",
    "    return cv2.imwrite (output_path, cropped_image)\n",
    "# Anzeigen des Original- und des zugeschnittenen Bildes\n",
    "#cv2.imshow('Original Image', image)\n",
    "#cv2.imshow('Cropped Image', cropped_image)\n",
    "#cv2.waitKey(0)  # Warten, bis eine Taste gedrückt wird\n",
    "#cv2.destroyAllWindows()"
   ]
  },
  {
   "cell_type": "code",
   "execution_count": 61,
   "id": "fa068e61",
   "metadata": {},
   "outputs": [
    {
     "data": {
      "text/plain": [
       "[<matplotlib.lines.Line2D at 0x1bb9befeaa0>]"
      ]
     },
     "execution_count": 61,
     "metadata": {},
     "output_type": "execute_result"
    },
    {
     "data": {
      "image/png": "[encoded data removed]",
      "text/plain": [
       "<Figure size 640x480 with 1 Axes>"
      ]
     },
     "metadata": {},
     "output_type": "display_data"
    }
   ],
   "source": [
    "plt.plot (hist)"
   ]
  },
  {
   "cell_type": "code",
   "execution_count": 16,
   "id": "f2551a3c",
   "metadata": {},
   "outputs": [],
   "source": [
    "f = np.fft.fft2(cropped_image)\n",
    "fshift = np.fft.fftshift(f)\n",
    "magnitude_spectrum = 20*np.log(np.abs(fshift))"
   ]
  },
  {
   "cell_type": "code",
   "execution_count": 6,
   "id": "b5ae6498-b934-4c9b-a2ce-858397260adf",
   "metadata": {},
   "outputs": [
    {
     "data": {
      "text/plain": [
       "(300, 400)"
      ]
     },
     "execution_count": 6,
     "metadata": {},
     "output_type": "execute_result"
    }
   ],
   "source": [
    "cropped_image.shape"
   ]
  },
  {
   "cell_type": "code",
   "execution_count": null,
   "id": "87e3b8d2-c996-4b6d-b2a9-f8eb9362200e",
   "metadata": {},
   "outputs": [],
   "source": [
    "scipy.ndimage.median_filter(input, size=None, footprint=None, output=None, mode='reflect', cval=0.0, origin=0, *, axes=None)"
   ]
  },
  {
   "cell_type": "code",
   "execution_count": 15,
   "id": "cc5c7d48-b27d-429b-8caf-07aef543e288",
   "metadata": {},
   "outputs": [],
   "source": [
    "med = scipy.ndimage.median_filter (cropped_image, )"
   ]
  },
  {
   "cell_type": "code",
   "execution_count": 16,
   "id": "af7cec38-e9b5-45ff-8019-c8c6110d4121",
   "metadata": {},
   "outputs": [
    {
     "data": {
      "text/plain": [
       "-1"
      ]
     },
     "execution_count": 16,
     "metadata": {},
     "output_type": "execute_result"
    }
   ],
   "source": [
    "cv2.imshow('Cropped Image', cropped_image)\n",
    "cv2.waitKey(0)  # Warten, bis eine Taste gedrückt wird"
   ]
  },
  {
   "cell_type": "code",
   "execution_count": 17,
   "id": "31e45fa1-8259-46af-979c-eacbd552f3b0",
   "metadata": {},
   "outputs": [
    {
     "data": {
      "text/plain": [
       "True"
      ]
     },
     "execution_count": 17,
     "metadata": {},
     "output_type": "execute_result"
    }
   ],
   "source": [
    "cv2.imwrite ('cropped_image.png', cropped_image)"
   ]
  },
  {
   "cell_type": "code",
   "execution_count": null,
   "id": "67d6fb8a-08f3-48a9-b02e-b9a9a3cae88d",
   "metadata": {},
   "outputs": [],
   "source": []
  }
 ],
 "metadata": {
  "kernelspec": {
   "display_name": "Python 3 (ipykernel)",
   "language": "python",
   "name": "python3"
  },
  "language_info": {
   "codemirror_mode": {
    "name": "ipython",
    "version": 3
   },
   "file_extension": ".py",
   "mimetype": "text/x-python",
   "name": "python",
   "nbconvert_exporter": "python",
   "pygments_lexer": "ipython3",
   "version": "3.10.9"
  }
 },
 "nbformat": 4,
 "nbformat_minor": 5
}
